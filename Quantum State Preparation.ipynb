{
 "cells": [
  {
   "cell_type": "code",
   "execution_count": 466,
   "id": "2fe21978-917d-4fd4-851e-16a88cd21bdf",
   "metadata": {},
   "outputs": [],
   "source": [
    "from qiskit.circuit import QuantumCircuit, QuantumRegister, AncillaRegister, Parameter\n",
    "from qiskit.circuit.library.standard_gates import RZGate, RYGate\n",
    "from qiskit.quantum_info import Statevector, Operator\n",
    "\n",
    "import itertools\n",
    "import numpy as np\n",
    "import math"
   ]
  },
  {
   "cell_type": "markdown",
   "id": "4053da91-7c6e-4f4f-a62e-7789353d2f1a",
   "metadata": {},
   "source": [
    "# Computing Quantum State Angles\n",
    "While we are given the coefficients of our quantum state $\\psi = \\sum_{x=0}^{2^n-1} \\psi_x |x\\rangle_n$, we need to determine what angles $\\{\\theta_{i}^k : 0\\leq i < 2^k, 0\\leq k < n\\}$ we need to rotate our qubits by given $\\{\\psi_x\\}$. We assume for now that each $\\psi_x$ is real-valued, and will deal with the phase separately. This is entirely an exercise in trigonometry and algebra, and consequently, we don't need to introduce any of the quantum circuits yet."
   ]
  },
  {
   "cell_type": "markdown",
   "id": "a8875223-f6c4-4760-8b73-47531cd53951",
   "metadata": {},
   "source": [
    "For clarity, we demonstrate how we generate the coefficients in the case of $n=3$. We observe that, for some choice of parameters $\\{\\theta_{i}^k\\}$, we have\n",
    "\\begin{align*}\n",
    "\\psi = &\\left(\\cos(\\theta^2_0/2)|0\\rangle +\\sin(\\theta^2_0/2)|1\\rangle\\right)\\cos(\\theta_0^1/2)|0\\rangle\\cos(\\theta_{0}^{0}/2)|0\\rangle\\\\\n",
    "+&\\left(\\cos(\\theta^2_1/2)|0\\rangle +\\sin(\\theta^2_1/2)|1\\rangle\\right)\\sin(\\theta_{0}^{1}/2)|1\\rangle\\cos(\\theta_0^0/2)|0\\rangle\\\\\n",
    "+&\\left(\\cos(\\theta^2_2/2)|0\\rangle +\\sin(\\theta^2_2/2)|1\\rangle\\right)\\cos(\\theta_{1}^{1}/2)|0\\rangle\\sin(\\theta_0^0/2)|1\\rangle\\\\\n",
    "+&\\left(\\cos(\\theta^2_3/2)|0\\rangle +\\sin(\\theta^2_3/2)|1\\rangle\\right)\\sin(\\theta_1^1/2)|1\\rangle\\sin(\\theta_{0}^{0}/2)|1\\rangle\\\\\n",
    "\\end{align*}\n",
    "\n",
    "Using this, we see that $\\psi_0 = \\cos(\\theta_0^2/2)\\cos(\\theta_0^1/2)\\cos(\\theta_0^0/2)$, $\\psi_1 = \\sin(\\theta_0^2/2)\\cos(\\theta_0^1/2)\\cos(\\theta_0^0/2)$, and so on. Thus, $$\\cos(\\theta_0^0/2)^2 = \\psi_0^2 + \\psi_1^2 + \\psi_2^2 + \\psi_3^2.$$ Meanwhile, to solve for $\\theta_0^1$, with the knowledge of $\\theta_0^0$ in hand, all we need to do is observe that\n",
    "$$\\cos(\\theta_0^1/2)^2 = \\frac{\\psi_0^2 + \\psi_1^2}{\\cos(\\theta_0^0/2)^2} = \\frac{\\psi_0^2 + \\psi_1^2}{\\psi_0^2 + \\psi_1^2 + \\psi_2^2 + \\psi_3^2}.$$\n",
    "Finally,\n",
    "$$\\cos(\\theta_0^2/2) = \\frac{\\psi_0}{\\cos(\\theta_0^1/2)\\cos(\\theta_0^0/2)} = \\frac{\\psi_0}{\\sqrt{\\psi_0^2+ \\psi_1^2}}.$$\n",
    "The computation of the rest of the coefficients is done in a similar manner, so we only record the results here.\n",
    "\n",
    "\\begin{align*}\n",
    "\\cos(\\theta_1^2/2) &= \\frac{\\psi_2}{\\sqrt{\\psi_2^2+ \\psi_3^2}}\\\\\n",
    "\\cos(\\theta_1^1/2) &= \\sqrt{\\frac{\\psi_4^2 + \\psi_5^2}{\\psi_4^2 + \\psi_5^2 + \\psi_6^2 + \\psi_7^2}}\\\\\n",
    "\\cos(\\theta_2^2/2) &= \\frac{\\psi_4}{\\sqrt{\\psi_4^2+\\psi_5^2}}\\\\\n",
    "\\cos(\\theta_3^2/2) &= \\frac{\\psi_6}{\\sqrt{\\psi_6^2+\\psi_7^2}}\n",
    "\\end{align*}\n",
    "\n",
    "Below, we establish a function to do this for general values of $n$."
   ]
  },
  {
   "cell_type": "code",
   "execution_count": 458,
   "id": "19068546-2bd4-4be9-9430-3271c88ddb19",
   "metadata": {},
   "outputs": [],
   "source": [
    "def angle_generator_array(coefficients:list):\n",
    "    #First we need to ensure that our list has 2^n elements for some integer n.\n",
    "    n = np.log2(len(coefficients))\n",
    "    assert n == int(n), \"There need to be 2^n coefficients for some positive integer n\"\n",
    "    # Now we make sure that each of the list elements is actually a real number\n",
    "    assert all(item == float(item) for item in coefficients), \"Make sure that each of the list elements is a real number\"\n",
    "    #Finally we check that the norm of the coefficients is 1\n",
    "    assert np.round(np.sqrt(sum(np.array(coefficients)**2)),3) ==1, \"This needs to be a norm one list of coefficients\"\n",
    "    #We can now generate our angles based on these coefficients. For ease of computation, we will transform our list into squares\n",
    "    n = int(n)\n",
    "    sq_coefficients = list(map(lambda x: x**2,coefficients))\n",
    "    #We treat our first angle separately, as we don't need to consider the case where our starting qubit is |1>\n",
    "    angle_array = np.zeros([n,2**(n-1)])\n",
    "    angle_array[0] = angle_array[0]+2*np.arccos(np.sqrt(sum(sq_coefficients[0:2**(n-1)])))\n",
    "    #We will need to break our list of coefficients down into every consecutive group of size 2^m for some m < n\n",
    "    for i in range(1,n):\n",
    "        batched_coefficients = itertools.batched(sq_coefficients,2**(n-i))\n",
    "        angles = np.array([])\n",
    "        for group in batched_coefficients:\n",
    "            angles = np.append(angles,2*np.arccos(np.sqrt(sum(group[0:2**(n-i-1)])/sum(group))))\n",
    "        angle_array[i] = np.repeat(angles,2**(n-(i+1)))\n",
    "    return angle_array"
   ]
  },
  {
   "cell_type": "markdown",
   "id": "da6e3435-49b6-41ad-9a8a-91e1f7c59fc6",
   "metadata": {},
   "source": [
    "# Dealing with Phases\n",
    "Given $\\psi = \\sum_{x=0}^{2^n-1} \\psi_x |x\\rangle_n$, we are not guaranteed that every $\\psi_x$ is real-valued. Instead, we may have $\\psi_x\\in\\mathbb{C}$. In this case, we will record the phases separately, writing $\\psi_x = e^{i\\phi(x)}|\\psi_x|$, where $\\phi(x)$ is the phase, and $|\\psi_x|$ is the magnitude. Below we give a function which takes in a list of $2^n$ complex numbers (written in tuple form $(a,b) \\leftrightarrow a + bi$), and returns a list of magnitudes and a list of phases.\n"
   ]
  },
  {
   "cell_type": "code",
   "execution_count": 464,
   "id": "cecd1819-ac23-473a-b4f4-b7483dc01f2a",
   "metadata": {},
   "outputs": [],
   "source": [
    "def convert_from_complex(a,b):\n",
    "    return (math.atan2(a,b),np.sqrt(a**2+b**2))"
   ]
  },
  {
   "cell_type": "code",
   "execution_count": 485,
   "id": "f7d9b926-397a-4b4f-abe7-dd3fba98734f",
   "metadata": {},
   "outputs": [],
   "source": [
    "def convert_complex_list(lst):\n",
    "    phases = []\n",
    "    magnitudes = []\n",
    "    for item in lst:\n",
    "        phases.append(convert_from_complex(item[0],item[1])[0])\n",
    "        magnitudes.append(convert_from_complex(item[0],item[1])[1])\n",
    "    return [phases,magnitudes]\n",
    "        \n",
    "        "
   ]
  },
  {
   "cell_type": "markdown",
   "id": "6a97d3a0-8d92-4d99-a69e-30cba229c2ab",
   "metadata": {},
   "source": [
    "# Generating the Appropriate Quantum Circuit\n",
    "\n",
    "We've generated an array of angles that we will be rotating various qubits by. These can be visualized as a tree, by combining adjacent identical elements of rows into one node, with at most two children for every node. Before finalizing our quantum state preparation circuit, we first create a function that will create the desired quantum circuit from an arbitrary ``tree-like'' array. We also need to implement a multicontrolled Ry gate, as we only have access to single qubit gates and multicontrolled Rz gates. This is relatively standard, so we omit explanation for now."
   ]
  },
  {
   "cell_type": "code",
   "execution_count": 568,
   "id": "59885ccf-39c7-4c05-9a32-6f525ffac1c0",
   "metadata": {},
   "outputs": [],
   "source": [
    "def MCRY_Gate(theta,controls):\n",
    "    quantum_register = QuantumRegister(size = controls+1, name = \"x\")\n",
    "    quantum_circuit = QuantumCircuit(quantum_register, name = \"MCRY_Gate\")\n",
    "    MCRZ = RZGate(theta).control(controls)\n",
    "    quantum_circuit.sdg(controls)\n",
    "    quantum_circuit.h(controls)\n",
    "    quantum_circuit.append(MCRZ,quantum_register)\n",
    "    quantum_circuit.h(controls)\n",
    "    quantum_circuit.s(controls)\n",
    "    return quantum_circuit"
   ]
  },
  {
   "cell_type": "code",
   "execution_count": 515,
   "id": "dce9a304-ecd1-46a5-b156-47d7b590ab5c",
   "metadata": {},
   "outputs": [],
   "source": [
    "def circuit_from_tree(array):\n",
    "    rows = np.shape(array)[0] #The number of rows in the array is the same as the number of qubits\n",
    "    cols = np.shape(array)[1] #The number of columns will approximate the gate depth of the circuit\n",
    "    quantum_register = QuantumRegister(size = int(rows), name = \"x\")\n",
    "    quantum_circuit = QuantumCircuit(quantum_register, name = \"Quantum State Prep\")\n",
    "    #We need to treat the beginning of our circuit slightly differently than the rest\n",
    "    quantum_circuit.ry(array[0,0],rows-1)\n",
    "    for i in range(1,rows):\n",
    "        quantum_circuit.x(rows-i)\n",
    "        quantum_circuit.compose(MCRY_Gate(array[i,0],i).to_gate(),qubits = list(reversed(range(rows-i-1,rows))), inplace=True)\n",
    "    #We now iterate over the columns, keeping track of where the next branch of the tree splits, and moving down the branch from there\n",
    "    for i in range(1,cols):\n",
    "        #This is the earliest that the tree branches, so we are okay with repetitions of gates after this branch.\n",
    "        difference_nodes = np.nonzero(array[:,i] - array[:,i-1])[0]\n",
    "        for j in range(difference_nodes[0],rows):\n",
    "            quantum_circuit.x(rows-j)\n",
    "            quantum_circuit.compose(MCRY_Gate((array[j,i]),int(j)).to_gate(),qubits = list(reversed(range(rows-j-1,rows))), inplace=True)\n",
    "    return quantum_circuit"
   ]
  },
  {
   "cell_type": "markdown",
   "id": "812dae91-a244-4617-bc01-544b030f225f",
   "metadata": {},
   "source": [
    "For explanatory purposes, we also implement a multicontrolled Ry gate using the standard Ry gate from Qiskit, which allows the built in circuit diagram to be slightly clearer."
   ]
  },
  {
   "cell_type": "code",
   "execution_count": 516,
   "id": "f0f75535-66e6-4855-90a3-1a97b663325c",
   "metadata": {},
   "outputs": [],
   "source": [
    "def MCRY_Gate_explanatory(theta,controls):\n",
    "    quantum_register = QuantumRegister(size = controls+1, name = \"x\")\n",
    "    quantum_circuit = QuantumCircuit(quantum_register, name = \"MCRY_Gate\")\n",
    "    MCRY = RYGate(theta).control(controls)\n",
    "    quantum_circuit.append(MCRY,quantum_register)\n",
    "    return quantum_circuit\n",
    "\n",
    "def circuit_from_tree_explanatory(array):\n",
    "    rows = np.shape(array)[0] #The number of rows in the array is the same as the number of qubits\n",
    "    cols = np.shape(array)[1] #The number of columns will approximate the gate depth of the circuit\n",
    "    quantum_register = QuantumRegister(size = int(rows), name = \"x\")\n",
    "    quantum_circuit = QuantumCircuit(quantum_register, name = \"Quantum State Prep\")\n",
    "    #We need to treat the beginning of our circuit slightly differently than the rest\n",
    "    quantum_circuit.ry(array[0,0],rows-1)\n",
    "    for i in range(1,rows):\n",
    "        quantum_circuit.x(rows-i)\n",
    "        quantum_circuit.compose(MCRY_Gate_explanatory(array[i,0],i),qubits = list(reversed(range(rows-i-1,rows))), inplace=True)\n",
    "    #We now iterate over the columns, keeping track of where the next branch of the tree splits, and moving down the branch from there\n",
    "    for i in range(1,cols):\n",
    "        #This is the earliest that the tree branches, so we are okay with repetitions of gates after this branch.\n",
    "        difference_nodes = np.nonzero(array[:,i] - array[:,i-1])[0]\n",
    "        for j in range(difference_nodes[0],rows):\n",
    "            quantum_circuit.x(rows-j)\n",
    "            quantum_circuit.compose(MCRY_Gate_explanatory((array[j,i]),int(j)),qubits = list(reversed(range(rows-j-1,rows))), inplace=True)\n",
    "    return quantum_circuit"
   ]
  },
  {
   "cell_type": "markdown",
   "id": "ecbcd37d-aad3-420b-8134-9933744ed66b",
   "metadata": {},
   "source": [
    "# Putting Everything Together\n",
    "We now combine our various functions to generate a circuit that does quantum state preparation as desired. For now, we omit the case where the phase is non-zero, but this will be added in shortly"
   ]
  },
  {
   "cell_type": "code",
   "execution_count": 517,
   "id": "452914bd-4315-4317-99e8-11ad03f1f907",
   "metadata": {},
   "outputs": [],
   "source": [
    "def quantum_state_preparation(coefficients):\n",
    "    return circuit_from_tree(angle_generator_array(convert_complex_list(coefficients)[1]))"
   ]
  },
  {
   "cell_type": "markdown",
   "id": "38c01a71-5d09-46b4-bb98-1876ee056533",
   "metadata": {},
   "source": [
    "# Testing\n",
    "In order to test this, we will generate a list of random (real) numbers, whose squares sum to 1. We will then use this as the list of input coefficients for the state $\\psi$, and then show that we recover these coefficients with our circuit."
   ]
  },
  {
   "cell_type": "code",
   "execution_count": 561,
   "id": "53849ffc-4135-4a62-91bb-7e8f51f6cfff",
   "metadata": {},
   "outputs": [],
   "source": [
    "#It's probably best to keep the dimension relatively small for the sake of keeping the output readable\n",
    "def testing(dimension):\n",
    "    vector = np.random.rand(2**dimension)\n",
    "    unit_vector = vector/np.linalg.norm(vector)\n",
    "    print(\"Our sample state is\", unit_vector)\n",
    "    # We transform our starting state into a list of tuples, each with zero imaginary component (for now)\n",
    "    coefficients = list(zip(unit_vector,np.zeros(2**dimension)))\n",
    "    print(\"Our resulting state vector is\")\n",
    "    return Statevector(quantum_state_preparation(coefficients)).draw(\"Latex\")"
   ]
  },
  {
   "cell_type": "code",
   "execution_count": 571,
   "id": "a47e1daf-c952-43ab-a56a-f8b040d91d9e",
   "metadata": {},
   "outputs": [
    {
     "name": "stdout",
     "output_type": "stream",
     "text": [
      "Our sample state is [0.52204817 0.35622424 0.22967402 0.19102322 0.40998763 0.31204422\n",
      " 0.15418604 0.47126976]\n",
      "Our resulting state vector is\n"
     ]
    },
    {
     "data": {
      "text/latex": [
       "$$0.5220481711 |000\\rangle+0.3562242384 |001\\rangle+0.2296740194 |010\\rangle+0.191023216 |011\\rangle+0.4099876294 |100\\rangle+0.3120442176 |101\\rangle+0.1541860375 |110\\rangle+0.4712697641 |111\\rangle$$"
      ],
      "text/plain": [
       "<IPython.core.display.Latex object>"
      ]
     },
     "execution_count": 571,
     "metadata": {},
     "output_type": "execute_result"
    }
   ],
   "source": [
    "testing(3)"
   ]
  }
 ],
 "metadata": {
  "kernelspec": {
   "display_name": "Python 3 (ipykernel)",
   "language": "python",
   "name": "python3"
  },
  "language_info": {
   "codemirror_mode": {
    "name": "ipython",
    "version": 3
   },
   "file_extension": ".py",
   "mimetype": "text/x-python",
   "name": "python",
   "nbconvert_exporter": "python",
   "pygments_lexer": "ipython3",
   "version": "3.12.7"
  }
 },
 "nbformat": 4,
 "nbformat_minor": 5
}
